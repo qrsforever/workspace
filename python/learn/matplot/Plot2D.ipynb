{
 "cells": [
  {
   "cell_type": "code",
   "execution_count": null,
   "metadata": {},
   "outputs": [],
   "source": [
    "# https://blog.csdn.net/qq_34337272/article/details/79555544\n",
    "\n",
    "import numpy as np\n",
    "import matplotlib.pyplot as plt\n",
    "from numpy.random import randn\n",
    "from datetime import datetime\n",
    "%matplotlib inline"
   ]
  },
  {
   "cell_type": "markdown",
   "metadata": {},
   "source": [
    "## 1.简单图形绘制"
   ]
  },
  {
   "cell_type": "code",
   "execution_count": null,
   "metadata": {},
   "outputs": [],
   "source": [
    "## 根据坐标点绘制\n",
    "\n",
    "x = np.array([1,2,3,4,5,6,7,8])\n",
    "y = np.array([3,5,7,6,2,6,10,15])\n",
    "plt.plot(x,y,'r')# 折线 1 x 2 y 3 color\n",
    "plt.plot(x,y,'g',lw=10)# 4 line w\n",
    "\n",
    "# 折线 饼状 柱状\n",
    "x = np.array([1,2,3,4,5,6,7,8])\n",
    "y = np.array([13,25,17,36,21,16,10,15])\n",
    "plt.bar(x,y,0.2,alpha=1,color='b')# 5 color 4 透明度 3 0.9\n",
    "plt.show()"
   ]
  },
  {
   "cell_type": "code",
   "execution_count": null,
   "metadata": {},
   "outputs": [],
   "source": [
    "x = np.linspace(-1, 1,66)\n",
    "## 绘制y=2x+1函数的图像\n",
    "y = 2 * x + 1\n",
    "plt.plot(x, y)\n",
    "plt.show()\n",
    "\n",
    "## 绘制x^2函数的图像\n",
    "y = x**2\n",
    "plt.plot(x, y)\n",
    "plt.show()"
   ]
  },
  {
   "cell_type": "markdown",
   "metadata": {},
   "source": [
    "# 2.figure的简单使用"
   ]
  },
  {
   "cell_type": "code",
   "execution_count": null,
   "metadata": {},
   "outputs": [],
   "source": [
    "x = np.linspace(-1, 1, 50)\n",
    "\n",
    "# figure 1\n",
    "y1 = 2 * x + 1\n",
    "plt.figure()\n",
    "plt.plot(x, y1)\n",
    "\n",
    "# figure 2\n",
    "y2 = x**2\n",
    "plt.figure()\n",
    "plt.plot(x, y2)\n",
    "\n",
    "# figure 3，指定figure的编号并指定figure的大小, 指定线的颜色, 宽度和类型\n",
    "y2 = x**2\n",
    "plt.figure(num = 5, figsize = (4, 4))\n",
    "plt.plot(x, y1)\n",
    "plt.plot(x, y2, color = 'red', linewidth = 1.0, linestyle = '--')\n",
    "plt.show()"
   ]
  },
  {
   "cell_type": "markdown",
   "metadata": {},
   "source": [
    "# 3.设置坐标轴"
   ]
  },
  {
   "cell_type": "code",
   "execution_count": null,
   "metadata": {},
   "outputs": [],
   "source": [
    "# 绘制普通图像\n",
    "x = np.linspace(-1, 1, 50)\n",
    "y1 = 2 * x + 1\n",
    "y2 = x**2\n",
    "\n",
    "plt.figure()\n",
    "plt.plot(x, y1)\n",
    "plt.plot(x, y2, color = 'red', linewidth = 1.0, linestyle = '--')\n",
    "\n",
    "# 设置坐标轴的取值范围\n",
    "plt.xlim((-1, 1))\n",
    "plt.ylim((0, 3))\n",
    "\n",
    "# 设置坐标轴的lable\n",
    "# 标签里面必须添加字体变量：fontproperties='SimHei',fontsize=14。不然可能会乱码\n",
    "plt.xlabel(u'这是x轴',fontproperties='SimHei',fontsize=14)\n",
    "plt.ylabel(u'这是y轴',fontproperties='SimHei',fontsize=14)\n",
    "\n",
    "plt.xticks(np.linspace(-1, 1, 5))\n",
    "\n",
    "plt.show()"
   ]
  },
  {
   "cell_type": "code",
   "execution_count": null,
   "metadata": {},
   "outputs": [],
   "source": [
    "# 绘制普通图像\n",
    "x = np.linspace(-1, 1, 50)\n",
    "y1 = 2 * x + 1\n",
    "y2 = x**2\n",
    "\n",
    "plt.figure()\n",
    "plt.plot(x, y1)\n",
    "plt.plot(x, y2, color = 'red', linewidth = 1.0, linestyle = '--')\n",
    "\n",
    "# 设置坐标轴的取值范围\n",
    "plt.xlim((-1, 1))\n",
    "plt.ylim((0, 3))\n",
    "\n",
    "# 设置坐标轴的lable\n",
    "# 标签里面必须添加字体变量：fontproperties='SimHei',fontsize=14。不然可能会乱码\n",
    "plt.xlabel(u'这是x轴',fontproperties='SimHei',fontsize=14)\n",
    "plt.ylabel(u'这是y轴',fontproperties='SimHei',fontsize=14)\n",
    "\n",
    "plt.xticks(np.linspace(-1, 1, 5))\n",
    "\n",
    "# 获取当前的坐标轴, gca = get current axis\n",
    "ax = plt.gca()\n",
    "# 设置右边框和上边框\n",
    "ax.spines['right'].set_color('none')\n",
    "ax.spines['top'].set_color('none')\n",
    "# 设置x坐标轴为下边框\n",
    "ax.xaxis.set_ticks_position('bottom')\n",
    "# 设置y坐标轴为左边框\n",
    "ax.yaxis.set_ticks_position('left')\n",
    "# 设置x轴, y周在(0, 0)的位置\n",
    "ax.spines['bottom'].set_position(('data', 0))\n",
    "ax.spines['left'].set_position(('data', 0))\n",
    "\n",
    "# 设置坐标轴label的大小，背景色等信息\n",
    "for label in ax.get_xticklabels() + ax.get_yticklabels():\n",
    "    label.set_fontsize(12)\n",
    "    label.set_bbox(dict(facecolor = 'green', edgecolor = 'None', alpha = 0.7))\n",
    "\n",
    "plt.show()"
   ]
  },
  {
   "cell_type": "markdown",
   "metadata": {},
   "source": [
    "# 4.设置legend图例"
   ]
  },
  {
   "cell_type": "markdown",
   "metadata": {},
   "source": [
    "# 5.添加注解和绘制点以及在图形上绘制线或点"
   ]
  },
  {
   "cell_type": "code",
   "execution_count": null,
   "metadata": {},
   "outputs": [],
   "source": [
    "import matplotlib.pyplot as plt\n",
    "import numpy as np\n",
    "\n",
    "# 绘制普通图像\n",
    "x = np.linspace(-3, 3, 50)\n",
    "y = 2 * x + 1\n",
    "\n",
    "plt.figure()\n",
    "plt.plot(x, y)\n",
    "\n",
    "# 将上、右边框去掉\n",
    "ax = plt.gca()\n",
    "ax.spines['right'].set_color('none')\n",
    "ax.spines['top'].set_color('none')\n",
    "\n",
    "# 设置x轴的位置及数据在坐标轴上的位置\n",
    "ax.xaxis.set_ticks_position('bottom')\n",
    "ax.spines['bottom'].set_position(('data', 0))\n",
    "# 设置y轴的位置及数据在坐标轴上的位置\n",
    "ax.yaxis.set_ticks_position('left')\n",
    "ax.spines['left'].set_position(('data', 0))\n",
    "\n",
    "# 定义(x0, y0)点\n",
    "x0 = 1\n",
    "y0 = 2 * x0 + 1\n",
    "\n",
    "# 绘制(x0, y0)点\n",
    "plt.scatter(x0, y0, s = 50, color = 'blue')\n",
    "# 绘制虚线\n",
    "plt.plot([x0, x0], [y0, 0], 'k--', lw = 2.5)\n",
    "# 绘制注解一\n",
    "plt.annotate(r'$2 * x + 1 = %s$' % y0, xy = (x0, y0), xycoords = 'data', xytext = (+30, -30), \\\n",
    "             textcoords = 'offset points', fontsize = 16, arrowprops = dict(arrowstyle = '->', connectionstyle = 'arc3, rad = .2'))\n",
    "\n",
    "# 绘制注解二\n",
    "plt.text(-3, 3, r'$Test\\ text. \\mu \\sigma_i, \\alpha_i$', fontdict = {'size': 16, 'color': 'red'})\n",
    "plt.show()\n"
   ]
  },
  {
   "cell_type": "markdown",
   "metadata": {},
   "source": [
    "# 6.绘制散点图"
   ]
  },
  {
   "cell_type": "code",
   "execution_count": null,
   "metadata": {},
   "outputs": [],
   "source": [
    "# 数据个数\n",
    "n = 1024\n",
    "# 均值为0, 方差为1的随机数\n",
    "x = np.random.normal(0, 1, n)\n",
    "y = np.random.normal(0, 1, n)\n",
    "\n",
    "# 计算颜色值\n",
    "color = np.arctan2(y, x)\n",
    "# 绘制散点图\n",
    "plt.scatter(x, y, s = 75, c = color, alpha = 0.5)\n",
    "# 设置坐标轴范围\n",
    "plt.xlim((-1.5, 1.5))\n",
    "plt.ylim((-1.5, 1.5))\n",
    "\n",
    "# 不显示坐标轴的值\n",
    "plt.xticks(())\n",
    "plt.yticks(())\n",
    "\n",
    "plt.show()"
   ]
  },
  {
   "cell_type": "markdown",
   "metadata": {},
   "source": [
    "# 7.绘制柱状图"
   ]
  },
  {
   "cell_type": "code",
   "execution_count": null,
   "metadata": {},
   "outputs": [],
   "source": [
    "# 数据数目\n",
    "n = 10\n",
    "x = np.arange(n)\n",
    "# 生成数据, 均匀分布(0.5, 1.0)之间\n",
    "y1 = (1 - x / float(n)) * np.random.uniform(0.5, 1.0, n)\n",
    "y2 = (1 - x / float(n)) * np.random.uniform(0.5, 1.0, n)\n",
    "\n",
    "# 绘制柱状图, 向上\n",
    "plt.bar(x, y1, facecolor = 'blue', edgecolor = 'white')\n",
    "# 绘制柱状图, 向下\n",
    "plt.bar(x, -y2, facecolor = 'green', edgecolor = 'white')\n",
    "\n",
    "\n",
    "temp = zip(x, y2)\n",
    "# 在柱状图上显示具体数值, ha水平对齐, va垂直对齐\n",
    "for x, y in zip(x, y1):\n",
    "    plt.text(x + 0.05, y + 0.1, '%.2f' % y, ha = 'center', va = 'bottom')\n",
    "\n",
    "for x, y in temp:\n",
    "    plt.text(x + 0.05, -y - 0.1, '%.2f' % y, ha = 'center', va = 'bottom')\n",
    "\n",
    "# 设置坐标轴范围\n",
    "plt.xlim(-1, n)\n",
    "plt.ylim(-1.5, 1.5)\n",
    "# 去除坐标轴\n",
    "plt.xticks(())\n",
    "plt.yticks(())\n",
    "plt.show()"
   ]
  },
  {
   "cell_type": "markdown",
   "metadata": {},
   "source": [
    "# 8.绘制登高线图"
   ]
  },
  {
   "cell_type": "code",
   "execution_count": null,
   "metadata": {},
   "outputs": [],
   "source": [
    "# 定义等高线高度函数\n",
    "def f(x, y):\n",
    "    return (1 - x / 2 + x ** 5 + y ** 3) * np.exp(- x ** 2 - y ** 2)\n",
    "\n",
    "# 数据数目\n",
    "n = 256\n",
    "# 定义x, y\n",
    "x = np.linspace(-3, 3, n)\n",
    "y = np.linspace(-3, 3, n)\n",
    "\n",
    "# 生成网格数据\n",
    "X, Y = np.meshgrid(x, y)\n",
    "\n",
    "\n",
    "# 填充等高线的颜色, 8是等高线分为几部分\n",
    "plt.contourf(X, Y, f(X, Y), 8, alpha = 0.75, cmap = plt.cm.hot)\n",
    "# 绘制等高线\n",
    "C = plt.contour(X, Y, f(X, Y), 8, colors = 'black')\n",
    "# 绘制等高线数据\n",
    "plt.clabel(C, inline = True, fontsize = 10)\n",
    "\n",
    "# 去除坐标轴\n",
    "plt.xticks(())\n",
    "plt.yticks(())\n",
    "plt.show()\n"
   ]
  },
  {
   "cell_type": "markdown",
   "metadata": {},
   "source": [
    "# 9.绘制图像"
   ]
  },
  {
   "cell_type": "code",
   "execution_count": null,
   "metadata": {},
   "outputs": [],
   "source": [
    " # 定义图像数据\n",
    "a = np.linspace(0, 1, 9).reshape(3, 3)\n",
    "# 显示图像数据\n",
    "plt.imshow(a, interpolation = 'nearest', cmap = 'bone', origin = 'lower')\n",
    "# 添加颜色条\n",
    "plt.colorbar()\n",
    "# 去掉坐标轴\n",
    "plt.xticks(())\n",
    "plt.yticks(())\n",
    "plt.show()"
   ]
  },
  {
   "cell_type": "markdown",
   "metadata": {},
   "source": [
    "# 10.绘制3D图形"
   ]
  },
  {
   "cell_type": "markdown",
   "metadata": {},
   "source": [
    "# 11.subplot绘制多图"
   ]
  },
  {
   "cell_type": "code",
   "execution_count": null,
   "metadata": {},
   "outputs": [],
   "source": [
    "plt.figure()\n",
    "\n",
    "# 绘制第一个图\n",
    "plt.subplot(2, 2, 1)\n",
    "plt.plot([0, 1], [0, 1])\n",
    "# 绘制第二个图\n",
    "plt.subplot(2, 2, 2)\n",
    "plt.plot([0, 1], [0, 1])\n",
    "# 绘制第三个图\n",
    "plt.subplot(2, 2, 3)\n",
    "plt.plot([0, 1], [0, 1])\n",
    "# 绘制第四个图\n",
    "plt.subplot(2, 2, 4)\n",
    "plt.plot([0, 1], [0, 1])\n",
    "plt.show()"
   ]
  },
  {
   "cell_type": "code",
   "execution_count": null,
   "metadata": {},
   "outputs": [],
   "source": [
    "plt.figure()\n",
    "\n",
    "# 绘制第一个图\n",
    "plt.subplot(2, 1, 1)\n",
    "plt.plot([0, 1], [0, 1])\n",
    "# 绘制第二个图\n",
    "plt.subplot(2, 3, 4)\n",
    "plt.plot([0, 1], [0, 1])\n",
    "# 绘制第三个图\n",
    "plt.subplot(2, 3, 5)\n",
    "plt.plot([0, 1], [0, 1])\n",
    "# 绘制第四个图\n",
    "plt.subplot(2, 3, 6)\n",
    "plt.plot([0, 1], [0, 1])\n",
    "plt.show()"
   ]
  },
  {
   "cell_type": "code",
   "execution_count": null,
   "metadata": {},
   "outputs": [],
   "source": [
    "# 这种方式无法合并\n",
    "fig, axes = plt.subplots(nrows=2, ncols=2, figsize=(10, 4))\n",
    "print(fig.get_figwidth(), fig.get_figheight())\n",
    "axes[0,0].plot([0, 1], [0, 1], linestyle='--')\n",
    "axes[0,1].plot([0, 1], [0, 1], 'ko--')\n",
    "axes[1,0].plot([0, 1], [0, 1], color='k', marker='o', linestyle='--')\n",
    "axes[1,1].plot([0, 1], [0, 1], color='b', linestyle='dashed')"
   ]
  },
  {
   "cell_type": "markdown",
   "metadata": {},
   "source": [
    "# 12.figure绘制多图"
   ]
  },
  {
   "cell_type": "code",
   "execution_count": null,
   "metadata": {},
   "outputs": [],
   "source": [
    "# 定义figure\n",
    "plt.figure()\n",
    "# figure分成3行3列, 取得第一个子图的句柄, 第一个子图跨度为1行3列, 起点是表格(0, 0)\n",
    "ax1 = plt.subplot2grid((3, 3), (0, 0), colspan = 3, rowspan = 1)\n",
    "ax1.plot([0, 1], [0, 1])\n",
    "ax1.set_title('Test')\n",
    "\n",
    "# figure分成3行3列, 取得第二个子图的句柄, 第二个子图跨度为1行3列, 起点是表格(1, 0)\n",
    "ax2 = plt.subplot2grid((3, 3), (1, 0), colspan = 2, rowspan = 1)\n",
    "ax2.plot([0, 1], [0, 1])\n",
    "\n",
    "# figure分成3行3列, 取得第三个子图的句柄, 第三个子图跨度为1行1列, 起点是表格(1, 2)\n",
    "ax3 = plt.subplot2grid((3, 3), (1, 2), colspan = 1, rowspan = 1)\n",
    "ax3.plot([0, 1], [0, 1])\n",
    "\n",
    "# figure分成3行3列, 取得第四个子图的句柄, 第四个子图跨度为1行3列, 起点是表格(2, 0)\n",
    "ax4 = plt.subplot2grid((3, 3), (2, 0), colspan = 3, rowspan = 1)\n",
    "ax4.plot([0, 1], [0, 1])\n",
    "\n",
    "plt.show()"
   ]
  },
  {
   "cell_type": "markdown",
   "metadata": {},
   "source": [
    "# 13. figure图的嵌套"
   ]
  },
  {
   "cell_type": "code",
   "execution_count": null,
   "metadata": {},
   "outputs": [],
   "source": [
    "# 定义figure\n",
    "fig = plt.figure()\n",
    "\n",
    "# 定义数据\n",
    "x = [1, 2, 3, 4, 5, 6, 7]\n",
    "y = [1, 3, 4, 2, 5, 8, 6]\n",
    "\n",
    "# figure的百分比, 从figure 10%的位置开始绘制, 宽高是figure的80%\n",
    "left, bottom, width, height = 0.1, 0.1, 0.8, 0.8\n",
    "# 获得绘制的句柄\n",
    "ax1 = fig.add_axes([left, bottom, width, height])\n",
    "# 绘制点(x,y)\n",
    "ax1.plot(x, y, 'r')\n",
    "ax1.set_xlabel('x')\n",
    "ax1.set_ylabel('y')\n",
    "ax1.set_title('test')\n",
    "\n",
    "# 嵌套方法一\n",
    "# figure的百分比, 从figure 10%的位置开始绘制, 宽高是figure的80%\n",
    "left, bottom, width, height = 0.2, 0.6, 0.25, 0.25\n",
    "# 获得绘制的句柄\n",
    "ax2 = fig.add_axes([left, bottom, width, height])\n",
    "# 绘制点(x,y)\n",
    "ax2.plot(x, y, 'r')\n",
    "ax2.set_xlabel('x')\n",
    "ax2.set_ylabel('y')\n",
    "ax2.set_title('part1')\n",
    "\n",
    "# 嵌套方法二\n",
    "plt.axes([bottom, left, width, height])\n",
    "plt.plot(x, y, 'r')\n",
    "plt.xlabel('x')\n",
    "plt.ylabel('y')\n",
    "plt.title('part2')\n",
    "\n",
    "plt.show()"
   ]
  }
 ],
 "metadata": {
  "kernelspec": {
   "display_name": "Python 3",
   "language": "python",
   "name": "python3"
  },
  "language_info": {
   "codemirror_mode": {
    "name": "ipython",
    "version": 3
   },
   "file_extension": ".py",
   "mimetype": "text/x-python",
   "name": "python",
   "nbconvert_exporter": "python",
   "pygments_lexer": "ipython3",
   "version": "3.4.3"
  }
 },
 "nbformat": 4,
 "nbformat_minor": 2
}
