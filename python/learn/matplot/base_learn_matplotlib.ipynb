{
 "cells": [
  {
   "cell_type": "markdown",
   "metadata": {},
   "source": [
    "# Learn Matplotlib Basic"
   ]
  },
  {
   "cell_type": "code",
   "execution_count": null,
   "metadata": {},
   "outputs": [],
   "source": [
    "import numpy as np\n",
    "import matplotlib.pylab as plt\n",
    "\n",
    "# show in notebook, and not block, # don't need call plt.show()\n",
    "%matplotlib inline\n",
    "\n",
    "# more see ML/learn/Python_For_Data_Analysis/plotting_visualization.ipynb"
   ]
  },
  {
   "cell_type": "code",
   "execution_count": null,
   "metadata": {},
   "outputs": [],
   "source": [
    "# figure and show\n",
    "fig = plt.figure(figsize=(8, 4))\n",
    "ax = fig.add_subplot(111)\n",
    "# ax.axis('off')"
   ]
  },
  {
   "cell_type": "code",
   "execution_count": null,
   "metadata": {},
   "outputs": [],
   "source": [
    "# hide the spines (轴,脊骨)\n",
    "fig, axes = plt.subplots(nrows=1, ncols=2)\n",
    "axes[0].spines['top'].set_color('none')\n",
    "# axes[0].spines['right'].set_color('none')\n",
    "axes[0].spines['left'].set_color('none')\n",
    "axes[1].xaxis.set_ticks_position('top')\n",
    "axes[1].spines['bottom'].set_position(('data', 0.5))\n",
    "axes[1].yaxis.set_ticks_position('right')\n",
    "axes[1].spines['left'].set_position(('data', 0.5))"
   ]
  }
 ],
 "metadata": {
  "kernelspec": {
   "display_name": "Python 3",
   "language": "python",
   "name": "python3"
  },
  "language_info": {
   "codemirror_mode": {
    "name": "ipython",
    "version": 3
   },
   "file_extension": ".py",
   "mimetype": "text/x-python",
   "name": "python",
   "nbconvert_exporter": "python",
   "pygments_lexer": "ipython3",
   "version": "3.4.3"
  }
 },
 "nbformat": 4,
 "nbformat_minor": 2
}
