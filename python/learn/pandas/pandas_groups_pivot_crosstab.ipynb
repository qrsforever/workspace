{
 "cells": [
  {
   "cell_type": "markdown",
   "metadata": {},
   "source": [
    "# <div align='center'> 学习Pandas之透视表(pivotTab)和交叉表(crossTab) </div>"
   ]
  },
  {
   "cell_type": "code",
   "execution_count": null,
   "metadata": {},
   "outputs": [],
   "source": [
    "import numpy as np\n",
    "import pandas as pd\n",
    "import matplotlib.pylab as plt\n",
    "\n",
    "%matplotlib inline\n"
   ]
  },
  {
   "cell_type": "markdown",
   "metadata": {},
   "source": [
    "## 一. groupby , pivot_table and crosstab\n",
    "\n",
    "[参考](https://blog.csdn.net/elecjack/article/details/50760736)"
   ]
  },
  {
   "cell_type": "code",
   "execution_count": null,
   "metadata": {},
   "outputs": [],
   "source": [
    "df1 = pd.DataFrame({\n",
    "    'key1':['a','a','b','b','a'],\n",
    "    'key2':['one','two','one','two','one'],\n",
    "    'data1':np.random.randn(5),\n",
    "    'data2':np.random.randn(5)})\n",
    "df1"
   ]
  },
  {
   "cell_type": "markdown",
   "metadata": {},
   "source": [
    "### 1. groupby"
   ]
  },
  {
   "cell_type": "code",
   "execution_count": null,
   "metadata": {},
   "outputs": [],
   "source": [
    "# (1) groupby one column\n",
    "df1_grouped_by_key1 = df1.groupby(by='key1')\n",
    "print(type(df1_grouped_by_key1))\n",
    "# list(df1_grouped_by_key1)[0][1]\n",
    "dict(list(df1_grouped_by_key1))['a']['data1']"
   ]
  },
  {
   "cell_type": "code",
   "execution_count": null,
   "metadata": {},
   "outputs": [],
   "source": [
    "df1_grouped_by_key1.describe()"
   ]
  },
  {
   "cell_type": "code",
   "execution_count": null,
   "metadata": {},
   "outputs": [],
   "source": [
    "print([x for x in df1_grouped_by_key1])\n",
    "df1_grouped_by_key1.count()"
   ]
  },
  {
   "cell_type": "code",
   "execution_count": null,
   "metadata": {},
   "outputs": [],
   "source": [
    "# (2) groupby multiple columns\n",
    "df1_grouped_by_key1_key2 = df1.groupby(by=['key1', 'key2'])\n",
    "df1_grouped_by_key1_key2 "
   ]
  },
  {
   "cell_type": "code",
   "execution_count": null,
   "metadata": {},
   "outputs": [],
   "source": [
    "print([x for x in df1_grouped_by_key1_key2])\n",
    "df1_grouped_by_key1_key2.count()"
   ]
  },
  {
   "cell_type": "code",
   "execution_count": null,
   "metadata": {},
   "outputs": [],
   "source": [
    "# (3) agg on grouped\n",
    "df1_grouped_by_key1['data1'].agg('sum')"
   ]
  },
  {
   "cell_type": "code",
   "execution_count": null,
   "metadata": {},
   "outputs": [],
   "source": [
    "df1_grouped_by_key1_key2['data1', 'data2'].agg(['mean', 'sum'])"
   ]
  },
  {
   "cell_type": "code",
   "execution_count": null,
   "metadata": {},
   "outputs": [],
   "source": [
    "# (4) apply on grouped\n",
    "# the distinguish between agg and apply is 'apply' can action on all 'func'\n",
    "# agg: mean, sum, count and so on, apply can work with user define func\n",
    "df1_grouped_by_key1.agg('mean')"
   ]
  },
  {
   "cell_type": "code",
   "execution_count": null,
   "metadata": {},
   "outputs": [],
   "source": [
    "# sample above 'agg'\n",
    "df1_grouped_by_key1.apply(np.mean)"
   ]
  },
  {
   "cell_type": "code",
   "execution_count": null,
   "metadata": {},
   "outputs": [],
   "source": [
    "df1_grouped_by_key1_key2.agg('mean')"
   ]
  },
  {
   "cell_type": "code",
   "execution_count": null,
   "metadata": {},
   "outputs": [],
   "source": [
    "# sample above 'agg'\n",
    "df1_grouped_by_key1_key2.apply(np.mean)"
   ]
  },
  {
   "cell_type": "markdown",
   "metadata": {},
   "source": [
    "### 2. pivot_table & pivot"
   ]
  },
  {
   "cell_type": "code",
   "execution_count": null,
   "metadata": {},
   "outputs": [],
   "source": [
    "df1 "
   ]
  },
  {
   "cell_type": "code",
   "execution_count": null,
   "metadata": {},
   "outputs": [],
   "source": [
    "# (1) Stat. by group row and column\n",
    "df1.pivot_table(index='key1', columns='key2')\n",
    "# df1.pivot_table(index='key1', columns='key2', values='data1')"
   ]
  },
  {
   "cell_type": "code",
   "execution_count": null,
   "metadata": {},
   "outputs": [],
   "source": [
    "# (2) Stat. sumary\n",
    "df1.pivot_table(index='key1', columns='key2', margins=True)"
   ]
  },
  {
   "cell_type": "code",
   "execution_count": null,
   "metadata": {
    "scrolled": true
   },
   "outputs": [],
   "source": [
    "# (3) distinguish: pivot for reshape, row <-> column\n",
    "# https://nikgrozev.com/2015/07/01/reshaping-in-pandas-pivot-pivot-table-stack-and-unstack-explained-with-pictures/\n",
    "# Index contains duplicate entries, cannot reshape\n",
    "# df1.pivot(index='key1', columns='key2')\n",
    "\n",
    "# if change Item[2]: Item1 --> Item0, will error: Index contains duplicate entries, cannot reshape\n",
    "# so pivot_table can solve this problem\n",
    "\n",
    "from collections import OrderedDict\n",
    "table = OrderedDict((\n",
    "    (\"Item\", ['Item0', 'Item0', 'Item1', 'Item1']),\n",
    "    ('CType',['Gold', 'Bronze', 'Gold', 'Silver']),\n",
    "    ('USD',  ['1$', '2$', '3$', '4$']),\n",
    "    ('EU',   ['1€', '2€', '3€', '4€'])\n",
    "))\n",
    "df2 = pd.DataFrame(table)\n",
    "df2"
   ]
  },
  {
   "cell_type": "code",
   "execution_count": null,
   "metadata": {},
   "outputs": [],
   "source": [
    "df2.groupby(by=['Item', 'CType']).count()"
   ]
  },
  {
   "cell_type": "code",
   "execution_count": null,
   "metadata": {},
   "outputs": [],
   "source": [
    "df2_piv1_item = df2.pivot(index='Item', columns='CType', values='USD')\n",
    "df2_piv1_item"
   ]
  },
  {
   "cell_type": "code",
   "execution_count": null,
   "metadata": {},
   "outputs": [],
   "source": [
    "df2_piv2_item = df2.pivot(index='Item', columns='CType')\n",
    "df2_piv2_item"
   ]
  },
  {
   "cell_type": "code",
   "execution_count": null,
   "metadata": {},
   "outputs": [],
   "source": [
    "# make error test, change Item1 -> Item0\n",
    "table = OrderedDict((\n",
    "    (\"Item\", ['Item0', 'Item0', 'Item0', 'Item1']),\n",
    "    ('CType',['Gold', 'Bronze', 'Gold', 'Silver']),\n",
    "    ('USD',  ['1', '2', '3', '4']),\n",
    "    ('EU',   ['1', '2', '3', '4'])\n",
    "))\n",
    "\n",
    "df2_2 = pd.DataFrame(table)\n",
    "df2_2"
   ]
  },
  {
   "cell_type": "code",
   "execution_count": null,
   "metadata": {},
   "outputs": [],
   "source": [
    "# Item0 and Gold --> 2, 2\n",
    "df2_2.groupby(by=['Item', 'CType']).count()"
   ]
  },
  {
   "cell_type": "code",
   "execution_count": null,
   "metadata": {},
   "outputs": [],
   "source": [
    "# Error: Index contains duplicate entries, cannot reshape\n",
    "# df2_2_piv2_item = df2_2.pivot(index='Item', columns='CType')\n",
    "# df2_2_piv2_item\n",
    "\n",
    "# using pivot_table instead, aggregate these duplicate entries, must assign the aggfunc\n",
    "# Error: No numeric types to aggregate if aggfunc=np.mean, why ?\n",
    "df2_2_piv_item = df2_2.pivot_table(index='Item', columns='CType', aggfunc=np.max)\n",
    "df2_2_piv_item"
   ]
  },
  {
   "cell_type": "markdown",
   "metadata": {},
   "source": [
    "## 3. crosstab"
   ]
  },
  {
   "cell_type": "code",
   "execution_count": null,
   "metadata": {},
   "outputs": [],
   "source": [
    "# (1) cross tab is-a special pivot table that calculate the frequences of grouped \n",
    "pd.crosstab(index=df1.key1, columns=df1.key2, margins=True)"
   ]
  },
  {
   "cell_type": "code",
   "execution_count": null,
   "metadata": {},
   "outputs": [],
   "source": [
    "df1.pivot_table(index=['key1'], columns=['key2'], margins=True, aggfunc=len)"
   ]
  },
  {
   "cell_type": "code",
   "execution_count": null,
   "metadata": {},
   "outputs": [],
   "source": [
    "# (2)\n",
    "pd.crosstab(index=df1.key1, columns=df1.key2, values=df1.data1, aggfunc=np.min)"
   ]
  },
  {
   "cell_type": "markdown",
   "metadata": {},
   "source": [
    "## 二. 过滤\n",
    "\n",
    "[参考](https://www.jianshu.com/p/26355cf3ea9b)\n"
   ]
  },
  {
   "cell_type": "markdown",
   "metadata": {},
   "source": [
    "## 1. loc"
   ]
  },
  {
   "cell_type": "code",
   "execution_count": null,
   "metadata": {},
   "outputs": [],
   "source": [
    "df1"
   ]
  },
  {
   "cell_type": "code",
   "execution_count": null,
   "metadata": {},
   "outputs": [],
   "source": [
    "df1.loc[df1.key1=='a']"
   ]
  },
  {
   "cell_type": "markdown",
   "metadata": {},
   "source": [
    "## 2.query"
   ]
  },
  {
   "cell_type": "code",
   "execution_count": null,
   "metadata": {},
   "outputs": [],
   "source": [
    "df1.query('data1 > -0.4 & data1 < -0.1')"
   ]
  }
 ],
 "metadata": {
  "kernelspec": {
   "display_name": "Python 3",
   "language": "python",
   "name": "python3"
  },
  "language_info": {
   "codemirror_mode": {
    "name": "ipython",
    "version": 3
   },
   "file_extension": ".py",
   "mimetype": "text/x-python",
   "name": "python",
   "nbconvert_exporter": "python",
   "pygments_lexer": "ipython3",
   "version": "3.4.3"
  }
 },
 "nbformat": 4,
 "nbformat_minor": 2
}
