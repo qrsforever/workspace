{
 "cells": [
  {
   "cell_type": "code",
   "execution_count": null,
   "metadata": {},
   "outputs": [],
   "source": [
    "import re\n",
    "from datetime import datetime\n",
    "import pandas as pd\n",
    "import matplotlib.pyplot as plt\n",
    "import numpy as np\n",
    "\n",
    "%matplotlib inline\n",
    "\n",
    "# re: https://www.cnblogs.com/tina-python/p/5508402.html"
   ]
  },
  {
   "cell_type": "code",
   "execution_count": null,
   "metadata": {},
   "outputs": [],
   "source": [
    "match = re.match(r'(?P<filename>[a-zA-Z0-9_\\.]*[^:]):(?P<line>\\d+)', 'RuleEngineLog.h:44')\n",
    "# match = re.match(r'(?P<function>[a-zA-Z0-9_]*)', 'clips_logd')\n",
    "match.groupdict()"
   ]
  },
  {
   "cell_type": "code",
   "execution_count": null,
   "metadata": {},
   "outputs": [],
   "source": [
    "# 08-31 10:06:09.703  2882  3544 V homebrain: 2034181200 | RuleEngineLog.h:44 | clips_logd | 4 | (\"creaate rule context \" rul-cloud-virtualmode)\n",
    "hb_tag=r'homebrain'\n",
    "p_dt=r'(?P<datetime>\\d{2}-\\d{2} \\d{2}:\\d{2}:\\d{2}\\.\\d{3})'\n",
    "p_id1=r'(?P<pthreadid>\\d+)'\n",
    "p_id2=r'(?P<pid>\\d+)'\n",
    "p_id3=r'(?P<kernelpid>\\d+)'\n",
    "p_fnl=r'(?P<filename>[\\w\\.]*):(?P<line>\\d+)'\n",
    "p_func=r'(?P<function>\\w*)'\n",
    "p_loglevel=r'(?P<level>\\d{1})'\n",
    "p_message=r'(?P<message>.*[^$])'\n",
    "hb_re = re.compile(p_dt+'\\s+'+p_id1+'\\s+'+p_id2+' V '+hb_tag+': '+p_id3+' \\| '+p_fnl+' \\| '+p_func+' \\| '+p_loglevel+' \\| '+p_message+'$')\n",
    "\n",
    "ret = hb_re.search('08-31 10:06:09.703  2882  3544 V homebrain: 2034181200 | RuleEngineLog.h:44 | clips_logd | 4 | (\\\"creaate rule context \\\" rul-cloud-virtualmode)')\n",
    "print(ret)\n",
    "print(ret.groupdict())\n",
    "\n",
    "def parser(file):\n",
    "    try:\n",
    "        with open(file) as f:\n",
    "            for line in f:\n",
    "                res = hb_re.search(line)\n",
    "                if res is None:\n",
    "                    continue\n",
    "                gdict = res.groupdict()\n",
    "                # dt = datetime.strptime(gdict['datetime'], '%m-%d %H:%M:%S.%f').replace(year=2018)\n",
    "                # print(dt)\n",
    "                print(gdict)\n",
    "\n",
    "    except IOError as e:\n",
    "        raise e"
   ]
  },
  {
   "cell_type": "code",
   "execution_count": null,
   "metadata": {},
   "outputs": [],
   "source": [
    "parser('./logcat.log.01')"
   ]
  }
 ],
 "metadata": {
  "kernelspec": {
   "display_name": "Python 3",
   "language": "python",
   "name": "python3"
  },
  "language_info": {
   "codemirror_mode": {
    "name": "ipython",
    "version": 3
   },
   "file_extension": ".py",
   "mimetype": "text/x-python",
   "name": "python",
   "nbconvert_exporter": "python",
   "pygments_lexer": "ipython3",
   "version": "3.4.3"
  }
 },
 "nbformat": 4,
 "nbformat_minor": 2
}
