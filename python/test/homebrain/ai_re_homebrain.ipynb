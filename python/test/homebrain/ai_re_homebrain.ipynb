{
 "cells": [
  {
   "cell_type": "code",
   "execution_count": null,
   "metadata": {},
   "outputs": [],
   "source": [
    "import re\n",
    "from datetime import datetime\n",
    "import pandas as pd\n",
    "import matplotlib.pyplot as plt\n",
    "import numpy as np\n",
    "\n",
    "%matplotlib inline\n",
    "\n",
    "# re: https://www.cnblogs.com/tina-python/p/5508402.html"
   ]
  },
  {
   "cell_type": "code",
   "execution_count": null,
   "metadata": {},
   "outputs": [],
   "source": [
    "# test simple\n",
    "match = re.match(r'(?P<filename>[a-zA-Z0-9_\\.]*[^:]):(?P<line>\\d+)', 'RuleEngineLog.h:44')\n",
    "# match = re.match(r'(?P<function>[a-zA-Z0-9_]*)', 'clips_logd')\n",
    "match.groupdict()"
   ]
  },
  {
   "cell_type": "code",
   "execution_count": null,
   "metadata": {},
   "outputs": [],
   "source": [
    "# 08-31 10:06:09.703  2882  3544 V homebrain: 2034181200 | RuleEngineLog.h:44 | clips_logd | 4 | (\"creaate rule context \" rul-cloud-virtualmode)\n",
    "hb_tag=r'homebrain'\n",
    "p_dt=r'(?P<datetime>\\d{2}-\\d{2} \\d{2}:\\d{2}:\\d{2}\\.\\d{3})'\n",
    "p_id1=r'(?P<pthreadid>\\d+)'\n",
    "p_id2=r'(?P<pid>\\d+)'\n",
    "p_id3=r'(?P<kernelpid>\\d+)'\n",
    "p_fnl=r'(?P<filename>[\\w\\.]*):(?P<line>\\d+)'\n",
    "p_func=r'(?P<function>\\w*)'\n",
    "p_loglevel=r'(?P<level>\\d{1})'\n",
    "p_message=r'(?P<message>.*[^$])'\n",
    "hb_re = re.compile(p_dt+'\\s+'+p_id1+'\\s+'+p_id2+' V '+hb_tag+': '+p_id3+' \\| '+p_fnl+' \\| '+p_func+' \\| '+p_loglevel+' \\| '+p_message+'$')\n",
    "\n",
    "# ret = hb_re.search('08-31 10:06:09.703  2882  3544 V homebrain: 2034181200 | RuleEngineLog.h:44 | clips_logd | 4 | (\\\"creaate rule context \\\" rul-cloud-virtualmode)')\n",
    "# print(ret.groupdict())\n",
    "\n",
    "loginfos = []\n",
    "\n",
    "def parser(file):\n",
    "    try:\n",
    "        with open(file) as f:\n",
    "            for line in f:\n",
    "                res = hb_re.search(line)\n",
    "                if res is None:\n",
    "                    continue\n",
    "                loginfos.append(res.groupdict())\n",
    "                # dt = datetime.strptime(gdict['datetime'], '%m-%d %H:%M:%S.%f').replace(year=2018)\n",
    "                \n",
    "    except IOError as e:\n",
    "        raise e"
   ]
  },
  {
   "cell_type": "code",
   "execution_count": null,
   "metadata": {},
   "outputs": [],
   "source": [
    "import os\n",
    "for f in os.listdir(os.getcwd()):\n",
    "    if 'logcat.log.' in f:\n",
    "        parser(f)\n",
    "log_df = pd.DataFrame(loginfos)\n",
    "log_df.head()"
   ]
  },
  {
   "cell_type": "code",
   "execution_count": null,
   "metadata": {},
   "outputs": [],
   "source": [
    "log_df.drop(columns=['kernelpid'], inplace=True)"
   ]
  },
  {
   "cell_type": "code",
   "execution_count": null,
   "metadata": {},
   "outputs": [],
   "source": [
    "# type convert: object to int\n",
    "log_df['pid'] = log_df['pid'].astype(int)\n",
    "log_df['pthreadid'] = log_df['pthreadid'].astype(int)\n",
    "log_df['line'] = log_df['line'].astype(int)\n",
    "log_df['level'] = log_df['level'].astype(int)\n",
    "print(log_df.dtypes)"
   ]
  },
  {
   "cell_type": "code",
   "execution_count": null,
   "metadata": {},
   "outputs": [],
   "source": [
    "# test object to datetime\n",
    "# datestrs = ['08-31 10:05:05.569','08-31 10:05:05.574']\n",
    "# test_df = pd.to_datetime(datestrs, format='%m-%d %H:%M:%S.%f')\n",
    "# print(type(test_df)) # datetimes.DatetimeIdex\n",
    "# test_df = test_df.map(lambda x: x.strftime('%m-%d %H:%M'))\n",
    "# print(type(test_df)) # base.Index\n",
    "# log_df['datetime'] = pd.to_datetime(log_df['datetime'], format='%m-%d %H:%M:%S.%f')\n",
    "# log_df['datetime'] = log_df['datetime'].apply(lambda x: datetime.strptime(x, '%m-%d %H:%M:%S.%f').replace(year=2018))\n",
    "# log_df.head()"
   ]
  },
  {
   "cell_type": "code",
   "execution_count": null,
   "metadata": {
    "scrolled": false
   },
   "outputs": [],
   "source": [
    "# this method is wrong why: can not repeatly run this cell, 'datetime' already not string objec\n",
    "log_df['datetime'] = log_df['datetime'].apply(lambda x: datetime.strptime(x, '%m-%d %H:%M:%S.%f').replace(year=datetime.now().year))\n",
    "# log_df['datetime'] = pd.to_datetime(log_df['datetime'], format='%m-%d %H:%M:%S.%f')\n",
    "# log_df.sort_values(by='datetime', ascending=True)\n",
    "log_df.set_index('datetime', inplace=True)\n",
    "log_df.sort_index(inplace=True)\n",
    "log_df.head()"
   ]
  },
  {
   "cell_type": "code",
   "execution_count": null,
   "metadata": {},
   "outputs": [],
   "source": [
    "# trim/strip str of columns\n",
    "# %timeit log_df['message'] = log_df['message'].str.strip()\n",
    "log_df['message'] = log_df['message'].str.strip()\n",
    "# cost more time\n",
    "# %timeit log_df.applymap(lambda x : x.strip() if type(x) is str else x)\n",
    "# %timeit log_df['message'] = log_df['message'].apply(lambda x : x.strip() if type(x) is str else x)\n",
    "log_df.head()"
   ]
  },
  {
   "cell_type": "code",
   "execution_count": null,
   "metadata": {},
   "outputs": [],
   "source": [
    "# virtual mode search\n",
    "raw_vm = r'\\(surper.virtual.device mode (\\d+)\\)'\n",
    "vm_df = log_df[log_df['message'].str.match(raw_vm)]\n",
    "vm_df.head()"
   ]
  },
  {
   "cell_type": "code",
   "execution_count": null,
   "metadata": {},
   "outputs": [],
   "source": [
    "vm_re = re.compile(raw_vm)\n",
    "\n",
    "# test re match\n",
    "match = vm_re.match('(surper.virtual.device mode 1)')\n",
    "print(type(vm_re), type(match), type(match.group(0)), int(match.group(1)))\n",
    "\n",
    "# with warning: SettingWitchCopyWarning\n",
    "# vm_df['vm'] = vm_df['message'].apply(lambda x : int(vm_re.match(x).group(1)))\n",
    "vm_df.assign(vm=vm_df['message'].apply(lambda x : int(vm_re.match(x).group(1))))"
   ]
  }
 ],
 "metadata": {
  "kernelspec": {
   "display_name": "Python 3",
   "language": "python",
   "name": "python3"
  },
  "language_info": {
   "codemirror_mode": {
    "name": "ipython",
    "version": 3
   },
   "file_extension": ".py",
   "mimetype": "text/x-python",
   "name": "python",
   "nbconvert_exporter": "python",
   "pygments_lexer": "ipython3",
   "version": "3.4.3"
  }
 },
 "nbformat": 4,
 "nbformat_minor": 2
}
